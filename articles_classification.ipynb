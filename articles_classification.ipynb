{
 "cells": [
  {
   "cell_type": "markdown",
   "id": "719a16fd-e89c-4444-ae9e-bda7d17f3f15",
   "metadata": {
    "tags": []
   },
   "source": [
    "# Sentiment Analysis\n",
    "# Articles_classification"
   ]
  },
  {
   "cell_type": "code",
   "execution_count": 1,
   "id": "8fc68472-16c1-4da7-9f50-4f61b32e8995",
   "metadata": {},
   "outputs": [],
   "source": [
    "import pandas as pd\n",
    "import string\n",
    "import nltk"
   ]
  },
  {
   "cell_type": "code",
   "execution_count": 2,
   "id": "dfffe3a1-52d0-4210-a50a-f361bf848091",
   "metadata": {
    "tags": []
   },
   "outputs": [],
   "source": [
    "df1=pd.read_csv('entertainment_data.csv')\n",
    "df2=pd.read_csv('business_data.csv')\n",
    "df3=pd.read_csv('education_data.csv')\n",
    "df4=pd.read_csv('sports_data.csv')\n",
    "df5=pd.read_csv('technology_data.csv')"
   ]
  },
  {
   "cell_type": "code",
   "execution_count": 3,
   "id": "ab876740-510c-4fb1-b09e-88a935797b97",
   "metadata": {
    "tags": []
   },
   "outputs": [],
   "source": [
    "# joining all the dataframes\n",
    "dfs=[df1,df2,df3,df4,df5]\n",
    "df = pd.concat(dfs)"
   ]
  },
  {
   "cell_type": "code",
   "execution_count": 4,
   "id": "a8e05823-cd4f-4aaf-8818-add24bde7707",
   "metadata": {
    "tags": []
   },
   "outputs": [
    {
     "data": {
      "text/html": [
       "<div>\n",
       "<style scoped>\n",
       "    .dataframe tbody tr th:only-of-type {\n",
       "        vertical-align: middle;\n",
       "    }\n",
       "\n",
       "    .dataframe tbody tr th {\n",
       "        vertical-align: top;\n",
       "    }\n",
       "\n",
       "    .dataframe thead th {\n",
       "        text-align: right;\n",
       "    }\n",
       "</style>\n",
       "<table border=\"1\" class=\"dataframe\">\n",
       "  <thead>\n",
       "    <tr style=\"text-align: right;\">\n",
       "      <th></th>\n",
       "      <th>headlines</th>\n",
       "      <th>description</th>\n",
       "      <th>content</th>\n",
       "      <th>url</th>\n",
       "      <th>category</th>\n",
       "    </tr>\n",
       "  </thead>\n",
       "  <tbody>\n",
       "    <tr>\n",
       "      <th>0</th>\n",
       "      <td>Bhumi Pednekar plays an investigative journali...</td>\n",
       "      <td>Bhumi Pednekar plays an investigative journali...</td>\n",
       "      <td>Actor Bhumi Pednekar is all set to take over t...</td>\n",
       "      <td>https://indianexpress.com/article/entertainmen...</td>\n",
       "      <td>entertainment</td>\n",
       "    </tr>\n",
       "    <tr>\n",
       "      <th>1</th>\n",
       "      <td>Karan Johar channels his inner Rajinikanth in ...</td>\n",
       "      <td>Karan Johar and Kiara Advani featured in a new...</td>\n",
       "      <td>Karan Johar reunited with his Lust Stories sta...</td>\n",
       "      <td>https://indianexpress.com/article/entertainmen...</td>\n",
       "      <td>entertainment</td>\n",
       "    </tr>\n",
       "    <tr>\n",
       "      <th>2</th>\n",
       "      <td>‘Shah Rukh Khan is irreplaceable, actors will ...</td>\n",
       "      <td>Karan Johar opened up about the blurring lines...</td>\n",
       "      <td>Filmmaker Karan Johar declared the the concept...</td>\n",
       "      <td>https://indianexpress.com/article/entertainmen...</td>\n",
       "      <td>entertainment</td>\n",
       "    </tr>\n",
       "    <tr>\n",
       "      <th>3</th>\n",
       "      <td>Years after break-up with Divya Agarwal, Varun...</td>\n",
       "      <td>Varun Sood said that it is easy for him to for...</td>\n",
       "      <td>Ever since Divya Agarwal and Varun Sood parted...</td>\n",
       "      <td>https://indianexpress.com/article/entertainmen...</td>\n",
       "      <td>entertainment</td>\n",
       "    </tr>\n",
       "    <tr>\n",
       "      <th>4</th>\n",
       "      <td>Guntur Kaaram box office collection Day 6: Mah...</td>\n",
       "      <td>Guntur Kaaram box office collection Day 6: Mah...</td>\n",
       "      <td>On Tuesday (Day 5), Mahesh Babu’s latest relea...</td>\n",
       "      <td>https://indianexpress.com/article/entertainmen...</td>\n",
       "      <td>entertainment</td>\n",
       "    </tr>\n",
       "  </tbody>\n",
       "</table>\n",
       "</div>"
      ],
      "text/plain": [
       "                                           headlines  \\\n",
       "0  Bhumi Pednekar plays an investigative journali...   \n",
       "1  Karan Johar channels his inner Rajinikanth in ...   \n",
       "2  ‘Shah Rukh Khan is irreplaceable, actors will ...   \n",
       "3  Years after break-up with Divya Agarwal, Varun...   \n",
       "4  Guntur Kaaram box office collection Day 6: Mah...   \n",
       "\n",
       "                                         description  \\\n",
       "0  Bhumi Pednekar plays an investigative journali...   \n",
       "1  Karan Johar and Kiara Advani featured in a new...   \n",
       "2  Karan Johar opened up about the blurring lines...   \n",
       "3  Varun Sood said that it is easy for him to for...   \n",
       "4  Guntur Kaaram box office collection Day 6: Mah...   \n",
       "\n",
       "                                             content  \\\n",
       "0  Actor Bhumi Pednekar is all set to take over t...   \n",
       "1  Karan Johar reunited with his Lust Stories sta...   \n",
       "2  Filmmaker Karan Johar declared the the concept...   \n",
       "3  Ever since Divya Agarwal and Varun Sood parted...   \n",
       "4  On Tuesday (Day 5), Mahesh Babu’s latest relea...   \n",
       "\n",
       "                                                 url       category  \n",
       "0  https://indianexpress.com/article/entertainmen...  entertainment  \n",
       "1  https://indianexpress.com/article/entertainmen...  entertainment  \n",
       "2  https://indianexpress.com/article/entertainmen...  entertainment  \n",
       "3  https://indianexpress.com/article/entertainmen...  entertainment  \n",
       "4  https://indianexpress.com/article/entertainmen...  entertainment  "
      ]
     },
     "execution_count": 4,
     "metadata": {},
     "output_type": "execute_result"
    }
   ],
   "source": [
    "df.head()"
   ]
  },
  {
   "cell_type": "markdown",
   "id": "ceaae5d2-2a87-4980-828a-a23bdacba48d",
   "metadata": {
    "tags": []
   },
   "source": [
    "## Preprocessing"
   ]
  },
  {
   "cell_type": "code",
   "execution_count": 5,
   "id": "4ea90907-c075-42ad-b2b0-d6abb72981a6",
   "metadata": {
    "tags": []
   },
   "outputs": [
    {
     "data": {
      "text/html": [
       "<div>\n",
       "<style scoped>\n",
       "    .dataframe tbody tr th:only-of-type {\n",
       "        vertical-align: middle;\n",
       "    }\n",
       "\n",
       "    .dataframe tbody tr th {\n",
       "        vertical-align: top;\n",
       "    }\n",
       "\n",
       "    .dataframe thead th {\n",
       "        text-align: right;\n",
       "    }\n",
       "</style>\n",
       "<table border=\"1\" class=\"dataframe\">\n",
       "  <thead>\n",
       "    <tr style=\"text-align: right;\">\n",
       "      <th></th>\n",
       "      <th>headlines</th>\n",
       "      <th>description</th>\n",
       "      <th>content</th>\n",
       "      <th>url</th>\n",
       "      <th>category</th>\n",
       "    </tr>\n",
       "  </thead>\n",
       "  <tbody>\n",
       "    <tr>\n",
       "      <th>1241</th>\n",
       "      <td>GST collection rises 11 % to Rs 1.59 lakh cr i...</td>\n",
       "      <td>The Goods and Services Tax (GST) collection wa...</td>\n",
       "      <td>GST collections grew by 11 per cent to over Rs...</td>\n",
       "      <td>https://indianexpress.com/article/business/eco...</td>\n",
       "      <td>business</td>\n",
       "    </tr>\n",
       "    <tr>\n",
       "      <th>1733</th>\n",
       "      <td>Assam Board 12th Results 2023: AHSEC to declar...</td>\n",
       "      <td>Assam Board AHSEC HS Class 12 Results 2023: On...</td>\n",
       "      <td>Assam Board AHSEC HS Class 12 Results 2023: Th...</td>\n",
       "      <td>https://indianexpress.com/article/education/as...</td>\n",
       "      <td>education</td>\n",
       "    </tr>\n",
       "    <tr>\n",
       "      <th>1473</th>\n",
       "      <td>Delhi HC permits St Stephen’s College to hold ...</td>\n",
       "      <td>Earlier this year, the St Stephen's College fi...</td>\n",
       "      <td>The Delhi High Court has permitted the St Step...</td>\n",
       "      <td>https://indianexpress.com/article/education/de...</td>\n",
       "      <td>education</td>\n",
       "    </tr>\n",
       "    <tr>\n",
       "      <th>633</th>\n",
       "      <td>Hyundai sales up 18% at 68,728 units in October</td>\n",
       "      <td>Hyundai Motors' domestic sales increased by 15...</td>\n",
       "      <td>Hyundai Motor India on Wednesday said its tota...</td>\n",
       "      <td>https://indianexpress.com/article/business/com...</td>\n",
       "      <td>business</td>\n",
       "    </tr>\n",
       "    <tr>\n",
       "      <th>463</th>\n",
       "      <td>CBSE Board Exams 2024: Important topics in Cla...</td>\n",
       "      <td>Focusing on the scoring chapters and leveragin...</td>\n",
       "      <td>— Sonali Khosla\\nWhen it comes to the syllabus...</td>\n",
       "      <td>https://indianexpress.com/article/education/sc...</td>\n",
       "      <td>education</td>\n",
       "    </tr>\n",
       "  </tbody>\n",
       "</table>\n",
       "</div>"
      ],
      "text/plain": [
       "                                              headlines  \\\n",
       "1241  GST collection rises 11 % to Rs 1.59 lakh cr i...   \n",
       "1733  Assam Board 12th Results 2023: AHSEC to declar...   \n",
       "1473  Delhi HC permits St Stephen’s College to hold ...   \n",
       "633     Hyundai sales up 18% at 68,728 units in October   \n",
       "463   CBSE Board Exams 2024: Important topics in Cla...   \n",
       "\n",
       "                                            description  \\\n",
       "1241  The Goods and Services Tax (GST) collection wa...   \n",
       "1733  Assam Board AHSEC HS Class 12 Results 2023: On...   \n",
       "1473  Earlier this year, the St Stephen's College fi...   \n",
       "633   Hyundai Motors' domestic sales increased by 15...   \n",
       "463   Focusing on the scoring chapters and leveragin...   \n",
       "\n",
       "                                                content  \\\n",
       "1241  GST collections grew by 11 per cent to over Rs...   \n",
       "1733  Assam Board AHSEC HS Class 12 Results 2023: Th...   \n",
       "1473  The Delhi High Court has permitted the St Step...   \n",
       "633   Hyundai Motor India on Wednesday said its tota...   \n",
       "463   — Sonali Khosla\\nWhen it comes to the syllabus...   \n",
       "\n",
       "                                                    url   category  \n",
       "1241  https://indianexpress.com/article/business/eco...   business  \n",
       "1733  https://indianexpress.com/article/education/as...  education  \n",
       "1473  https://indianexpress.com/article/education/de...  education  \n",
       "633   https://indianexpress.com/article/business/com...   business  \n",
       "463   https://indianexpress.com/article/education/sc...  education  "
      ]
     },
     "execution_count": 5,
     "metadata": {},
     "output_type": "execute_result"
    }
   ],
   "source": [
    "# Shuffling the columns so the df have some randomness\n",
    "from sklearn.utils import shuffle\n",
    "df = shuffle(df)\n",
    "df.head()"
   ]
  },
  {
   "cell_type": "code",
   "execution_count": 6,
   "id": "0bd1ef92-b94f-44d8-a8f6-dff8ed18ceb6",
   "metadata": {
    "tags": []
   },
   "outputs": [],
   "source": [
    "# resetting the index\n",
    "df.reset_index(inplace=True)"
   ]
  },
  {
   "cell_type": "code",
   "execution_count": 7,
   "id": "e34354e6-cbaa-4541-a2df-26e10ae2195c",
   "metadata": {
    "tags": []
   },
   "outputs": [
    {
     "data": {
      "text/html": [
       "<div>\n",
       "<style scoped>\n",
       "    .dataframe tbody tr th:only-of-type {\n",
       "        vertical-align: middle;\n",
       "    }\n",
       "\n",
       "    .dataframe tbody tr th {\n",
       "        vertical-align: top;\n",
       "    }\n",
       "\n",
       "    .dataframe thead th {\n",
       "        text-align: right;\n",
       "    }\n",
       "</style>\n",
       "<table border=\"1\" class=\"dataframe\">\n",
       "  <thead>\n",
       "    <tr style=\"text-align: right;\">\n",
       "      <th></th>\n",
       "      <th>index</th>\n",
       "      <th>headlines</th>\n",
       "      <th>description</th>\n",
       "      <th>content</th>\n",
       "      <th>url</th>\n",
       "      <th>category</th>\n",
       "    </tr>\n",
       "  </thead>\n",
       "  <tbody>\n",
       "    <tr>\n",
       "      <th>0</th>\n",
       "      <td>1241</td>\n",
       "      <td>GST collection rises 11 % to Rs 1.59 lakh cr i...</td>\n",
       "      <td>The Goods and Services Tax (GST) collection wa...</td>\n",
       "      <td>GST collections grew by 11 per cent to over Rs...</td>\n",
       "      <td>https://indianexpress.com/article/business/eco...</td>\n",
       "      <td>business</td>\n",
       "    </tr>\n",
       "    <tr>\n",
       "      <th>1</th>\n",
       "      <td>1733</td>\n",
       "      <td>Assam Board 12th Results 2023: AHSEC to declar...</td>\n",
       "      <td>Assam Board AHSEC HS Class 12 Results 2023: On...</td>\n",
       "      <td>Assam Board AHSEC HS Class 12 Results 2023: Th...</td>\n",
       "      <td>https://indianexpress.com/article/education/as...</td>\n",
       "      <td>education</td>\n",
       "    </tr>\n",
       "    <tr>\n",
       "      <th>2</th>\n",
       "      <td>1473</td>\n",
       "      <td>Delhi HC permits St Stephen’s College to hold ...</td>\n",
       "      <td>Earlier this year, the St Stephen's College fi...</td>\n",
       "      <td>The Delhi High Court has permitted the St Step...</td>\n",
       "      <td>https://indianexpress.com/article/education/de...</td>\n",
       "      <td>education</td>\n",
       "    </tr>\n",
       "    <tr>\n",
       "      <th>3</th>\n",
       "      <td>633</td>\n",
       "      <td>Hyundai sales up 18% at 68,728 units in October</td>\n",
       "      <td>Hyundai Motors' domestic sales increased by 15...</td>\n",
       "      <td>Hyundai Motor India on Wednesday said its tota...</td>\n",
       "      <td>https://indianexpress.com/article/business/com...</td>\n",
       "      <td>business</td>\n",
       "    </tr>\n",
       "    <tr>\n",
       "      <th>4</th>\n",
       "      <td>463</td>\n",
       "      <td>CBSE Board Exams 2024: Important topics in Cla...</td>\n",
       "      <td>Focusing on the scoring chapters and leveragin...</td>\n",
       "      <td>— Sonali Khosla\\nWhen it comes to the syllabus...</td>\n",
       "      <td>https://indianexpress.com/article/education/sc...</td>\n",
       "      <td>education</td>\n",
       "    </tr>\n",
       "  </tbody>\n",
       "</table>\n",
       "</div>"
      ],
      "text/plain": [
       "   index                                          headlines  \\\n",
       "0   1241  GST collection rises 11 % to Rs 1.59 lakh cr i...   \n",
       "1   1733  Assam Board 12th Results 2023: AHSEC to declar...   \n",
       "2   1473  Delhi HC permits St Stephen’s College to hold ...   \n",
       "3    633    Hyundai sales up 18% at 68,728 units in October   \n",
       "4    463  CBSE Board Exams 2024: Important topics in Cla...   \n",
       "\n",
       "                                         description  \\\n",
       "0  The Goods and Services Tax (GST) collection wa...   \n",
       "1  Assam Board AHSEC HS Class 12 Results 2023: On...   \n",
       "2  Earlier this year, the St Stephen's College fi...   \n",
       "3  Hyundai Motors' domestic sales increased by 15...   \n",
       "4  Focusing on the scoring chapters and leveragin...   \n",
       "\n",
       "                                             content  \\\n",
       "0  GST collections grew by 11 per cent to over Rs...   \n",
       "1  Assam Board AHSEC HS Class 12 Results 2023: Th...   \n",
       "2  The Delhi High Court has permitted the St Step...   \n",
       "3  Hyundai Motor India on Wednesday said its tota...   \n",
       "4  — Sonali Khosla\\nWhen it comes to the syllabus...   \n",
       "\n",
       "                                                 url   category  \n",
       "0  https://indianexpress.com/article/business/eco...   business  \n",
       "1  https://indianexpress.com/article/education/as...  education  \n",
       "2  https://indianexpress.com/article/education/de...  education  \n",
       "3  https://indianexpress.com/article/business/com...   business  \n",
       "4  https://indianexpress.com/article/education/sc...  education  "
      ]
     },
     "execution_count": 7,
     "metadata": {},
     "output_type": "execute_result"
    }
   ],
   "source": [
    "df.head()"
   ]
  },
  {
   "cell_type": "code",
   "execution_count": 8,
   "id": "7147a6fd-4a2a-430d-a3f2-916d965361ad",
   "metadata": {
    "tags": []
   },
   "outputs": [
    {
     "data": {
      "text/plain": [
       "category\n",
       "business         2000\n",
       "education        2000\n",
       "entertainment    2000\n",
       "sports           2000\n",
       "technology       2000\n",
       "Name: count, dtype: int64"
      ]
     },
     "execution_count": 8,
     "metadata": {},
     "output_type": "execute_result"
    }
   ],
   "source": [
    "df[\"category\"].value_counts()"
   ]
  },
  {
   "cell_type": "code",
   "execution_count": 9,
   "id": "e73c568c-dde6-4ab2-9b02-636ce4ccefbf",
   "metadata": {
    "tags": []
   },
   "outputs": [
    {
     "data": {
      "text/plain": [
       "(10000, 6)"
      ]
     },
     "execution_count": 9,
     "metadata": {},
     "output_type": "execute_result"
    }
   ],
   "source": [
    "df.shape"
   ]
  },
  {
   "cell_type": "code",
   "execution_count": 10,
   "id": "d7612728-4b69-478d-89e0-18bc5ebb1f08",
   "metadata": {},
   "outputs": [
    {
     "data": {
      "text/plain": [
       "0       0\n",
       "1       1\n",
       "2       1\n",
       "3       0\n",
       "4       1\n",
       "       ..\n",
       "9995    4\n",
       "9996    0\n",
       "9997    4\n",
       "9998    3\n",
       "9999    1\n",
       "Name: category, Length: 10000, dtype: int8"
      ]
     },
     "execution_count": 10,
     "metadata": {},
     "output_type": "execute_result"
    }
   ],
   "source": [
    "df['category'] = df['category'].astype('category')\n",
    "\n",
    "df['category'] = df['category'].cat.codes\n",
    "df['category']"
   ]
  },
  {
   "cell_type": "code",
   "execution_count": 11,
   "id": "8df977af-7185-48aa-b18a-f2402e75f698",
   "metadata": {
    "tags": []
   },
   "outputs": [
    {
     "data": {
      "text/plain": [
       "0       0\n",
       "1       1\n",
       "2       1\n",
       "3       0\n",
       "4       1\n",
       "       ..\n",
       "9995    4\n",
       "9996    0\n",
       "9997    4\n",
       "9998    3\n",
       "9999    1\n",
       "Name: category, Length: 10000, dtype: int8"
      ]
     },
     "execution_count": 11,
     "metadata": {},
     "output_type": "execute_result"
    }
   ],
   "source": [
    "y=df['category']\n",
    "y"
   ]
  },
  {
   "cell_type": "code",
   "execution_count": 12,
   "id": "906c7265-4858-457c-804b-4109e4666926",
   "metadata": {
    "tags": []
   },
   "outputs": [],
   "source": [
    "# joining the columns to create one and then i will drop the columns\n",
    "df['Content'] = df['headlines'] + ' ' + df['description'] + ' ' + df['content']\n",
    "\n",
    "df.drop(['headlines', 'description', 'content', 'url','index','category'], axis=1, inplace=True)"
   ]
  },
  {
   "cell_type": "code",
   "execution_count": 13,
   "id": "2a00fc3e-0ad1-47c5-b7ba-717bf47e76ab",
   "metadata": {
    "tags": []
   },
   "outputs": [
    {
     "data": {
      "text/html": [
       "<div>\n",
       "<style scoped>\n",
       "    .dataframe tbody tr th:only-of-type {\n",
       "        vertical-align: middle;\n",
       "    }\n",
       "\n",
       "    .dataframe tbody tr th {\n",
       "        vertical-align: top;\n",
       "    }\n",
       "\n",
       "    .dataframe thead th {\n",
       "        text-align: right;\n",
       "    }\n",
       "</style>\n",
       "<table border=\"1\" class=\"dataframe\">\n",
       "  <thead>\n",
       "    <tr style=\"text-align: right;\">\n",
       "      <th></th>\n",
       "      <th>Content</th>\n",
       "    </tr>\n",
       "  </thead>\n",
       "  <tbody>\n",
       "    <tr>\n",
       "      <th>0</th>\n",
       "      <td>GST collection rises 11 % to Rs 1.59 lakh cr i...</td>\n",
       "    </tr>\n",
       "    <tr>\n",
       "      <th>1</th>\n",
       "      <td>Assam Board 12th Results 2023: AHSEC to declar...</td>\n",
       "    </tr>\n",
       "    <tr>\n",
       "      <th>2</th>\n",
       "      <td>Delhi HC permits St Stephen’s College to hold ...</td>\n",
       "    </tr>\n",
       "    <tr>\n",
       "      <th>3</th>\n",
       "      <td>Hyundai sales up 18% at 68,728 units in Octobe...</td>\n",
       "    </tr>\n",
       "    <tr>\n",
       "      <th>4</th>\n",
       "      <td>CBSE Board Exams 2024: Important topics in Cla...</td>\n",
       "    </tr>\n",
       "  </tbody>\n",
       "</table>\n",
       "</div>"
      ],
      "text/plain": [
       "                                             Content\n",
       "0  GST collection rises 11 % to Rs 1.59 lakh cr i...\n",
       "1  Assam Board 12th Results 2023: AHSEC to declar...\n",
       "2  Delhi HC permits St Stephen’s College to hold ...\n",
       "3  Hyundai sales up 18% at 68,728 units in Octobe...\n",
       "4  CBSE Board Exams 2024: Important topics in Cla..."
      ]
     },
     "execution_count": 13,
     "metadata": {},
     "output_type": "execute_result"
    }
   ],
   "source": [
    "df.head()"
   ]
  },
  {
   "cell_type": "code",
   "execution_count": 14,
   "id": "944e11f0-811b-41d8-9ed5-566183adb0eb",
   "metadata": {
    "tags": []
   },
   "outputs": [
    {
     "data": {
      "text/html": [
       "<div>\n",
       "<style scoped>\n",
       "    .dataframe tbody tr th:only-of-type {\n",
       "        vertical-align: middle;\n",
       "    }\n",
       "\n",
       "    .dataframe tbody tr th {\n",
       "        vertical-align: top;\n",
       "    }\n",
       "\n",
       "    .dataframe thead th {\n",
       "        text-align: right;\n",
       "    }\n",
       "</style>\n",
       "<table border=\"1\" class=\"dataframe\">\n",
       "  <thead>\n",
       "    <tr style=\"text-align: right;\">\n",
       "      <th></th>\n",
       "      <th>Content</th>\n",
       "      <th>clean_Content</th>\n",
       "    </tr>\n",
       "  </thead>\n",
       "  <tbody>\n",
       "    <tr>\n",
       "      <th>0</th>\n",
       "      <td>GST collection rises 11 % to Rs 1.59 lakh cr i...</td>\n",
       "      <td>gst collection rises 11 % to rs 1.59 lakh cr i...</td>\n",
       "    </tr>\n",
       "    <tr>\n",
       "      <th>1</th>\n",
       "      <td>Assam Board 12th Results 2023: AHSEC to declar...</td>\n",
       "      <td>assam board 12th results 2023: ahsec to declar...</td>\n",
       "    </tr>\n",
       "  </tbody>\n",
       "</table>\n",
       "</div>"
      ],
      "text/plain": [
       "                                             Content  \\\n",
       "0  GST collection rises 11 % to Rs 1.59 lakh cr i...   \n",
       "1  Assam Board 12th Results 2023: AHSEC to declar...   \n",
       "\n",
       "                                       clean_Content  \n",
       "0  gst collection rises 11 % to rs 1.59 lakh cr i...  \n",
       "1  assam board 12th results 2023: ahsec to declar...  "
      ]
     },
     "execution_count": 14,
     "metadata": {},
     "output_type": "execute_result"
    }
   ],
   "source": [
    "## Convert to lowercase\n",
    "df['clean_Content'] = df['Content'].str.lower()\n",
    "df.head(2)"
   ]
  },
  {
   "cell_type": "markdown",
   "id": "0b4f5fe6-98c2-4e03-a14c-57ca8309f326",
   "metadata": {
    "tags": []
   },
   "source": [
    "### Removes Punctuations"
   ]
  },
  {
   "cell_type": "code",
   "execution_count": 15,
   "id": "1d0eaf8b-30f0-4d48-b885-56776de42e04",
   "metadata": {
    "tags": []
   },
   "outputs": [
    {
     "data": {
      "text/plain": [
       "'!\"#$%&\\'()*+,-./:;<=>?@[\\\\]^_`{|}~'"
      ]
     },
     "execution_count": 15,
     "metadata": {},
     "output_type": "execute_result"
    }
   ],
   "source": [
    "string.punctuation"
   ]
  },
  {
   "cell_type": "code",
   "execution_count": 16,
   "id": "79e733d0-914a-4bd7-8741-22be39b9cddb",
   "metadata": {
    "tags": []
   },
   "outputs": [],
   "source": [
    "def remove_punctuations(text):\n",
    "    punctuations = string.punctuation\n",
    "    return text.translate(str.maketrans('', '', punctuations))"
   ]
  },
  {
   "cell_type": "code",
   "execution_count": 17,
   "id": "cc500886-e3e8-4583-a9d8-eb10ebf0fd9c",
   "metadata": {
    "tags": []
   },
   "outputs": [
    {
     "data": {
      "text/html": [
       "<div>\n",
       "<style scoped>\n",
       "    .dataframe tbody tr th:only-of-type {\n",
       "        vertical-align: middle;\n",
       "    }\n",
       "\n",
       "    .dataframe tbody tr th {\n",
       "        vertical-align: top;\n",
       "    }\n",
       "\n",
       "    .dataframe thead th {\n",
       "        text-align: right;\n",
       "    }\n",
       "</style>\n",
       "<table border=\"1\" class=\"dataframe\">\n",
       "  <thead>\n",
       "    <tr style=\"text-align: right;\">\n",
       "      <th></th>\n",
       "      <th>Content</th>\n",
       "      <th>clean_Content</th>\n",
       "    </tr>\n",
       "  </thead>\n",
       "  <tbody>\n",
       "    <tr>\n",
       "      <th>0</th>\n",
       "      <td>GST collection rises 11 % to Rs 1.59 lakh cr i...</td>\n",
       "      <td>gst collection rises 11  to rs 159 lakh cr in ...</td>\n",
       "    </tr>\n",
       "    <tr>\n",
       "      <th>1</th>\n",
       "      <td>Assam Board 12th Results 2023: AHSEC to declar...</td>\n",
       "      <td>assam board 12th results 2023 ahsec to declare...</td>\n",
       "    </tr>\n",
       "    <tr>\n",
       "      <th>2</th>\n",
       "      <td>Delhi HC permits St Stephen’s College to hold ...</td>\n",
       "      <td>delhi hc permits st stephen’s college to hold ...</td>\n",
       "    </tr>\n",
       "    <tr>\n",
       "      <th>3</th>\n",
       "      <td>Hyundai sales up 18% at 68,728 units in Octobe...</td>\n",
       "      <td>hyundai sales up 18 at 68728 units in october ...</td>\n",
       "    </tr>\n",
       "    <tr>\n",
       "      <th>4</th>\n",
       "      <td>CBSE Board Exams 2024: Important topics in Cla...</td>\n",
       "      <td>cbse board exams 2024 important topics in clas...</td>\n",
       "    </tr>\n",
       "  </tbody>\n",
       "</table>\n",
       "</div>"
      ],
      "text/plain": [
       "                                             Content  \\\n",
       "0  GST collection rises 11 % to Rs 1.59 lakh cr i...   \n",
       "1  Assam Board 12th Results 2023: AHSEC to declar...   \n",
       "2  Delhi HC permits St Stephen’s College to hold ...   \n",
       "3  Hyundai sales up 18% at 68,728 units in Octobe...   \n",
       "4  CBSE Board Exams 2024: Important topics in Cla...   \n",
       "\n",
       "                                       clean_Content  \n",
       "0  gst collection rises 11  to rs 159 lakh cr in ...  \n",
       "1  assam board 12th results 2023 ahsec to declare...  \n",
       "2  delhi hc permits st stephen’s college to hold ...  \n",
       "3  hyundai sales up 18 at 68728 units in october ...  \n",
       "4  cbse board exams 2024 important topics in clas...  "
      ]
     },
     "execution_count": 17,
     "metadata": {},
     "output_type": "execute_result"
    }
   ],
   "source": [
    "df['clean_Content'] = df['clean_Content'].apply(lambda x: remove_punctuations(x))\n",
    "df.head()"
   ]
  },
  {
   "cell_type": "markdown",
   "id": "02dda29d-13da-47d7-aa9a-56bdce94fa42",
   "metadata": {
    "tags": []
   },
   "source": [
    "### Filtering Stopwords"
   ]
  },
  {
   "cell_type": "code",
   "execution_count": 18,
   "id": "6bd4ece1-eefe-4ff8-b0da-337d5e43821d",
   "metadata": {
    "tags": []
   },
   "outputs": [],
   "source": [
    "from nltk.corpus import stopwords"
   ]
  },
  {
   "cell_type": "code",
   "execution_count": 19,
   "id": "81851ce8-8e1c-4375-905a-c29dae83dbd5",
   "metadata": {
    "tags": []
   },
   "outputs": [
    {
     "data": {
      "text/plain": [
       "\"i, me, my, myself, we, our, ours, ourselves, you, you're, you've, you'll, you'd, your, yours, yourself, yourselves, he, him, his, himself, she, she's, her, hers, herself, it, it's, its, itself, they, them, their, theirs, themselves, what, which, who, whom, this, that, that'll, these, those, am, is, are, was, were, be, been, being, have, has, had, having, do, does, did, doing, a, an, the, and, but, if, or, because, as, until, while, of, at, by, for, with, about, against, between, into, through, during, before, after, above, below, to, from, up, down, in, out, on, off, over, under, again, further, then, once, here, there, when, where, why, how, all, any, both, each, few, more, most, other, some, such, no, nor, not, only, own, same, so, than, too, very, s, t, can, will, just, don, don't, should, should've, now, d, ll, m, o, re, ve, y, ain, aren, aren't, couldn, couldn't, didn, didn't, doesn, doesn't, hadn, hadn't, hasn, hasn't, haven, haven't, isn, isn't, ma, mightn, mightn't, mustn, mustn't, needn, needn't, shan, shan't, shouldn, shouldn't, wasn, wasn't, weren, weren't, won, won't, wouldn, wouldn't\""
      ]
     },
     "execution_count": 19,
     "metadata": {},
     "output_type": "execute_result"
    }
   ],
   "source": [
    "\", \".join(stopwords.words('english'))"
   ]
  },
  {
   "cell_type": "code",
   "execution_count": 20,
   "id": "097850f8-e41d-45c2-beb5-bb11b187203d",
   "metadata": {
    "tags": []
   },
   "outputs": [],
   "source": [
    "STOPWORDS = set(stopwords.words('english'))\n",
    "def remove_stopwords(text):\n",
    "    return \" \".join([word for word in text.split() if word not in STOPWORDS])"
   ]
  },
  {
   "cell_type": "code",
   "execution_count": 21,
   "id": "21737889-c449-4fbf-84d3-4f4715660fcb",
   "metadata": {
    "tags": []
   },
   "outputs": [
    {
     "data": {
      "text/html": [
       "<div>\n",
       "<style scoped>\n",
       "    .dataframe tbody tr th:only-of-type {\n",
       "        vertical-align: middle;\n",
       "    }\n",
       "\n",
       "    .dataframe tbody tr th {\n",
       "        vertical-align: top;\n",
       "    }\n",
       "\n",
       "    .dataframe thead th {\n",
       "        text-align: right;\n",
       "    }\n",
       "</style>\n",
       "<table border=\"1\" class=\"dataframe\">\n",
       "  <thead>\n",
       "    <tr style=\"text-align: right;\">\n",
       "      <th></th>\n",
       "      <th>Content</th>\n",
       "      <th>clean_Content</th>\n",
       "    </tr>\n",
       "  </thead>\n",
       "  <tbody>\n",
       "    <tr>\n",
       "      <th>0</th>\n",
       "      <td>GST collection rises 11 % to Rs 1.59 lakh cr i...</td>\n",
       "      <td>gst collection rises 11 rs 159 lakh cr aug imp...</td>\n",
       "    </tr>\n",
       "    <tr>\n",
       "      <th>1</th>\n",
       "      <td>Assam Board 12th Results 2023: AHSEC to declar...</td>\n",
       "      <td>assam board 12th results 2023 ahsec declare hs...</td>\n",
       "    </tr>\n",
       "    <tr>\n",
       "      <th>2</th>\n",
       "      <td>Delhi HC permits St Stephen’s College to hold ...</td>\n",
       "      <td>delhi hc permits st stephen’s college hold int...</td>\n",
       "    </tr>\n",
       "    <tr>\n",
       "      <th>3</th>\n",
       "      <td>Hyundai sales up 18% at 68,728 units in Octobe...</td>\n",
       "      <td>hyundai sales 18 68728 units october hyundai m...</td>\n",
       "    </tr>\n",
       "    <tr>\n",
       "      <th>4</th>\n",
       "      <td>CBSE Board Exams 2024: Important topics in Cla...</td>\n",
       "      <td>cbse board exams 2024 important topics class 1...</td>\n",
       "    </tr>\n",
       "  </tbody>\n",
       "</table>\n",
       "</div>"
      ],
      "text/plain": [
       "                                             Content  \\\n",
       "0  GST collection rises 11 % to Rs 1.59 lakh cr i...   \n",
       "1  Assam Board 12th Results 2023: AHSEC to declar...   \n",
       "2  Delhi HC permits St Stephen’s College to hold ...   \n",
       "3  Hyundai sales up 18% at 68,728 units in Octobe...   \n",
       "4  CBSE Board Exams 2024: Important topics in Cla...   \n",
       "\n",
       "                                       clean_Content  \n",
       "0  gst collection rises 11 rs 159 lakh cr aug imp...  \n",
       "1  assam board 12th results 2023 ahsec declare hs...  \n",
       "2  delhi hc permits st stephen’s college hold int...  \n",
       "3  hyundai sales 18 68728 units october hyundai m...  \n",
       "4  cbse board exams 2024 important topics class 1...  "
      ]
     },
     "execution_count": 21,
     "metadata": {},
     "output_type": "execute_result"
    }
   ],
   "source": [
    "df['clean_Content'] = df['clean_Content'].apply(lambda x: remove_stopwords(x))\n",
    "df.head()"
   ]
  },
  {
   "cell_type": "markdown",
   "id": "8af600bf-ae0b-4847-a899-80825d2be999",
   "metadata": {
    "tags": []
   },
   "source": [
    "### the 10 most frequent words"
   ]
  },
  {
   "cell_type": "code",
   "execution_count": 22,
   "id": "ffe1052d-5213-4bee-93cf-32e649b5d9f4",
   "metadata": {
    "tags": []
   },
   "outputs": [
    {
     "data": {
      "text/plain": [
       "[('said', 12510),\n",
       " ('india', 9450),\n",
       " ('also', 8541),\n",
       " ('per', 8121),\n",
       " ('cent', 6419),\n",
       " ('rs', 6306),\n",
       " ('already', 5727),\n",
       " ('advertisement', 5690),\n",
       " ('2023', 5487),\n",
       " ('new', 5393)]"
      ]
     },
     "execution_count": 22,
     "metadata": {},
     "output_type": "execute_result"
    }
   ],
   "source": [
    "from collections import Counter\n",
    "word_count = Counter()\n",
    "for text in df['clean_Content']:\n",
    "    for word in text.split():\n",
    "        word_count[word] += 1\n",
    "        \n",
    "word_count.most_common(10)"
   ]
  },
  {
   "cell_type": "code",
   "execution_count": 23,
   "id": "a6238905-8f6d-4f77-9f36-7a3c94a06a47",
   "metadata": {
    "tags": []
   },
   "outputs": [],
   "source": [
    "# print(word_count)"
   ]
  },
  {
   "cell_type": "markdown",
   "id": "83cf0cf7-db91-4e9b-94e7-97bc6f2b12ad",
   "metadata": {
    "tags": []
   },
   "source": [
    "### Remove Special characters"
   ]
  },
  {
   "cell_type": "code",
   "execution_count": 24,
   "id": "2a875107-d7c5-4122-8df8-4cf823903ac9",
   "metadata": {
    "tags": []
   },
   "outputs": [],
   "source": [
    "import re\n",
    "def remove_spl_chars(text):\n",
    "    text = re.sub('[^a-zA-Z0-9]', ' ', text)\n",
    "    text = re.sub('\\s+', ' ', text)\n",
    "    return text"
   ]
  },
  {
   "cell_type": "code",
   "execution_count": 25,
   "id": "a96163e2-8c3a-47a1-8af0-334e6afe0ad2",
   "metadata": {
    "tags": []
   },
   "outputs": [
    {
     "data": {
      "text/html": [
       "<div>\n",
       "<style scoped>\n",
       "    .dataframe tbody tr th:only-of-type {\n",
       "        vertical-align: middle;\n",
       "    }\n",
       "\n",
       "    .dataframe tbody tr th {\n",
       "        vertical-align: top;\n",
       "    }\n",
       "\n",
       "    .dataframe thead th {\n",
       "        text-align: right;\n",
       "    }\n",
       "</style>\n",
       "<table border=\"1\" class=\"dataframe\">\n",
       "  <thead>\n",
       "    <tr style=\"text-align: right;\">\n",
       "      <th></th>\n",
       "      <th>Content</th>\n",
       "      <th>clean_Content</th>\n",
       "    </tr>\n",
       "  </thead>\n",
       "  <tbody>\n",
       "    <tr>\n",
       "      <th>0</th>\n",
       "      <td>GST collection rises 11 % to Rs 1.59 lakh cr i...</td>\n",
       "      <td>gst collection rises 11 rs 159 lakh cr aug imp...</td>\n",
       "    </tr>\n",
       "    <tr>\n",
       "      <th>1</th>\n",
       "      <td>Assam Board 12th Results 2023: AHSEC to declar...</td>\n",
       "      <td>assam board 12th results 2023 ahsec declare hs...</td>\n",
       "    </tr>\n",
       "    <tr>\n",
       "      <th>2</th>\n",
       "      <td>Delhi HC permits St Stephen’s College to hold ...</td>\n",
       "      <td>delhi hc permits st stephen s college hold int...</td>\n",
       "    </tr>\n",
       "    <tr>\n",
       "      <th>3</th>\n",
       "      <td>Hyundai sales up 18% at 68,728 units in Octobe...</td>\n",
       "      <td>hyundai sales 18 68728 units october hyundai m...</td>\n",
       "    </tr>\n",
       "    <tr>\n",
       "      <th>4</th>\n",
       "      <td>CBSE Board Exams 2024: Important topics in Cla...</td>\n",
       "      <td>cbse board exams 2024 important topics class 1...</td>\n",
       "    </tr>\n",
       "  </tbody>\n",
       "</table>\n",
       "</div>"
      ],
      "text/plain": [
       "                                             Content  \\\n",
       "0  GST collection rises 11 % to Rs 1.59 lakh cr i...   \n",
       "1  Assam Board 12th Results 2023: AHSEC to declar...   \n",
       "2  Delhi HC permits St Stephen’s College to hold ...   \n",
       "3  Hyundai sales up 18% at 68,728 units in Octobe...   \n",
       "4  CBSE Board Exams 2024: Important topics in Cla...   \n",
       "\n",
       "                                       clean_Content  \n",
       "0  gst collection rises 11 rs 159 lakh cr aug imp...  \n",
       "1  assam board 12th results 2023 ahsec declare hs...  \n",
       "2  delhi hc permits st stephen s college hold int...  \n",
       "3  hyundai sales 18 68728 units october hyundai m...  \n",
       "4  cbse board exams 2024 important topics class 1...  "
      ]
     },
     "execution_count": 25,
     "metadata": {},
     "output_type": "execute_result"
    }
   ],
   "source": [
    "df['clean_Content'] = df['clean_Content'].apply(lambda x: remove_spl_chars(x))\n",
    "df.head()"
   ]
  },
  {
   "cell_type": "markdown",
   "id": "68febe98-cf3e-460a-8690-93d73bb04ebb",
   "metadata": {
    "tags": []
   },
   "source": [
    "### Stemming"
   ]
  },
  {
   "cell_type": "code",
   "execution_count": 26,
   "id": "3dca4563-3e7b-4012-8912-5cd439af4810",
   "metadata": {
    "tags": []
   },
   "outputs": [],
   "source": [
    "from nltk.stem.porter import PorterStemmer\n",
    "ps = PorterStemmer()\n",
    "def stem_words(text):\n",
    "    return \" \".join([ps.stem(word) for word in text.split()])"
   ]
  },
  {
   "cell_type": "code",
   "execution_count": 27,
   "id": "b61db8db-c2b0-42c3-97f0-706c2a0e2316",
   "metadata": {
    "tags": []
   },
   "outputs": [
    {
     "data": {
      "text/html": [
       "<div>\n",
       "<style scoped>\n",
       "    .dataframe tbody tr th:only-of-type {\n",
       "        vertical-align: middle;\n",
       "    }\n",
       "\n",
       "    .dataframe tbody tr th {\n",
       "        vertical-align: top;\n",
       "    }\n",
       "\n",
       "    .dataframe thead th {\n",
       "        text-align: right;\n",
       "    }\n",
       "</style>\n",
       "<table border=\"1\" class=\"dataframe\">\n",
       "  <thead>\n",
       "    <tr style=\"text-align: right;\">\n",
       "      <th></th>\n",
       "      <th>Content</th>\n",
       "      <th>clean_Content</th>\n",
       "      <th>stemmed_Content</th>\n",
       "    </tr>\n",
       "  </thead>\n",
       "  <tbody>\n",
       "    <tr>\n",
       "      <th>0</th>\n",
       "      <td>GST collection rises 11 % to Rs 1.59 lakh cr i...</td>\n",
       "      <td>gst collection rises 11 rs 159 lakh cr aug imp...</td>\n",
       "      <td>gst collect rise 11 rs 159 lakh cr aug improv ...</td>\n",
       "    </tr>\n",
       "    <tr>\n",
       "      <th>1</th>\n",
       "      <td>Assam Board 12th Results 2023: AHSEC to declar...</td>\n",
       "      <td>assam board 12th results 2023 ahsec declare hs...</td>\n",
       "      <td>assam board 12th result 2023 ahsec declar hs s...</td>\n",
       "    </tr>\n",
       "    <tr>\n",
       "      <th>2</th>\n",
       "      <td>Delhi HC permits St Stephen’s College to hold ...</td>\n",
       "      <td>delhi hc permits st stephen s college hold int...</td>\n",
       "      <td>delhi hc permit st stephen s colleg hold inter...</td>\n",
       "    </tr>\n",
       "    <tr>\n",
       "      <th>3</th>\n",
       "      <td>Hyundai sales up 18% at 68,728 units in Octobe...</td>\n",
       "      <td>hyundai sales 18 68728 units october hyundai m...</td>\n",
       "      <td>hyundai sale 18 68728 unit octob hyundai motor...</td>\n",
       "    </tr>\n",
       "    <tr>\n",
       "      <th>4</th>\n",
       "      <td>CBSE Board Exams 2024: Important topics in Cla...</td>\n",
       "      <td>cbse board exams 2024 important topics class 1...</td>\n",
       "      <td>cbse board exam 2024 import topic class 12th p...</td>\n",
       "    </tr>\n",
       "  </tbody>\n",
       "</table>\n",
       "</div>"
      ],
      "text/plain": [
       "                                             Content  \\\n",
       "0  GST collection rises 11 % to Rs 1.59 lakh cr i...   \n",
       "1  Assam Board 12th Results 2023: AHSEC to declar...   \n",
       "2  Delhi HC permits St Stephen’s College to hold ...   \n",
       "3  Hyundai sales up 18% at 68,728 units in Octobe...   \n",
       "4  CBSE Board Exams 2024: Important topics in Cla...   \n",
       "\n",
       "                                       clean_Content  \\\n",
       "0  gst collection rises 11 rs 159 lakh cr aug imp...   \n",
       "1  assam board 12th results 2023 ahsec declare hs...   \n",
       "2  delhi hc permits st stephen s college hold int...   \n",
       "3  hyundai sales 18 68728 units october hyundai m...   \n",
       "4  cbse board exams 2024 important topics class 1...   \n",
       "\n",
       "                                     stemmed_Content  \n",
       "0  gst collect rise 11 rs 159 lakh cr aug improv ...  \n",
       "1  assam board 12th result 2023 ahsec declar hs s...  \n",
       "2  delhi hc permit st stephen s colleg hold inter...  \n",
       "3  hyundai sale 18 68728 unit octob hyundai motor...  \n",
       "4  cbse board exam 2024 import topic class 12th p...  "
      ]
     },
     "execution_count": 27,
     "metadata": {},
     "output_type": "execute_result"
    }
   ],
   "source": [
    "df['stemmed_Content'] = df['clean_Content'].apply(lambda x: stem_words(x))\n",
    "df.head()"
   ]
  },
  {
   "cell_type": "markdown",
   "id": "a761dada-285f-42d8-89ac-c4c54e317ce7",
   "metadata": {
    "tags": []
   },
   "source": [
    "### Lemmatizing"
   ]
  },
  {
   "cell_type": "code",
   "execution_count": 28,
   "id": "2d086622-08c2-4047-a474-4e719ff58896",
   "metadata": {
    "tags": []
   },
   "outputs": [],
   "source": [
    "# Lemmatizing\n",
    "from nltk import pos_tag\n",
    "from nltk.corpus import wordnet\n",
    "from nltk.stem import WordNetLemmatizer\n",
    "\n",
    "lemmatizer =WordNetLemmatizer()\n",
    "wordnet_map = {\"N\":wordnet.NOUN, \"V\":wordnet.VERB, \"J\":wordnet.ADJ, \"R\":wordnet.ADV}\n",
    "\n",
    "def lemmatize_words(text):\n",
    "    # find pos tags\n",
    "    pos_text = pos_tag(text.split())\n",
    "    return \" \".join([lemmatizer.lemmatize(word, wordnet_map.get(pos[0], wordnet.NOUN)) for word, pos in pos_text])"
   ]
  },
  {
   "cell_type": "code",
   "execution_count": 29,
   "id": "ed7db145-18d6-42c9-b9ab-4599553ce4ba",
   "metadata": {
    "tags": []
   },
   "outputs": [
    {
     "data": {
      "text/html": [
       "<div>\n",
       "<style scoped>\n",
       "    .dataframe tbody tr th:only-of-type {\n",
       "        vertical-align: middle;\n",
       "    }\n",
       "\n",
       "    .dataframe tbody tr th {\n",
       "        vertical-align: top;\n",
       "    }\n",
       "\n",
       "    .dataframe thead th {\n",
       "        text-align: right;\n",
       "    }\n",
       "</style>\n",
       "<table border=\"1\" class=\"dataframe\">\n",
       "  <thead>\n",
       "    <tr style=\"text-align: right;\">\n",
       "      <th></th>\n",
       "      <th>Content</th>\n",
       "      <th>clean_Content</th>\n",
       "      <th>stemmed_Content</th>\n",
       "      <th>lemmatized_Content</th>\n",
       "    </tr>\n",
       "  </thead>\n",
       "  <tbody>\n",
       "    <tr>\n",
       "      <th>0</th>\n",
       "      <td>GST collection rises 11 % to Rs 1.59 lakh cr i...</td>\n",
       "      <td>gst collection rises 11 rs 159 lakh cr aug imp...</td>\n",
       "      <td>gst collect rise 11 rs 159 lakh cr aug improv ...</td>\n",
       "      <td>gst collection rise 11 r 159 lakh cr aug impro...</td>\n",
       "    </tr>\n",
       "    <tr>\n",
       "      <th>1</th>\n",
       "      <td>Assam Board 12th Results 2023: AHSEC to declar...</td>\n",
       "      <td>assam board 12th results 2023 ahsec declare hs...</td>\n",
       "      <td>assam board 12th result 2023 ahsec declar hs s...</td>\n",
       "      <td>assam board 12th result 2023 ahsec declare h s...</td>\n",
       "    </tr>\n",
       "    <tr>\n",
       "      <th>2</th>\n",
       "      <td>Delhi HC permits St Stephen’s College to hold ...</td>\n",
       "      <td>delhi hc permits st stephen s college hold int...</td>\n",
       "      <td>delhi hc permit st stephen s colleg hold inter...</td>\n",
       "      <td>delhi hc permit st stephen s college hold inte...</td>\n",
       "    </tr>\n",
       "    <tr>\n",
       "      <th>3</th>\n",
       "      <td>Hyundai sales up 18% at 68,728 units in Octobe...</td>\n",
       "      <td>hyundai sales 18 68728 units october hyundai m...</td>\n",
       "      <td>hyundai sale 18 68728 unit octob hyundai motor...</td>\n",
       "      <td>hyundai sale 18 68728 unit october hyundai mot...</td>\n",
       "    </tr>\n",
       "    <tr>\n",
       "      <th>4</th>\n",
       "      <td>CBSE Board Exams 2024: Important topics in Cla...</td>\n",
       "      <td>cbse board exams 2024 important topics class 1...</td>\n",
       "      <td>cbse board exam 2024 import topic class 12th p...</td>\n",
       "      <td>cbse board exams 2024 important topic class 12...</td>\n",
       "    </tr>\n",
       "  </tbody>\n",
       "</table>\n",
       "</div>"
      ],
      "text/plain": [
       "                                             Content  \\\n",
       "0  GST collection rises 11 % to Rs 1.59 lakh cr i...   \n",
       "1  Assam Board 12th Results 2023: AHSEC to declar...   \n",
       "2  Delhi HC permits St Stephen’s College to hold ...   \n",
       "3  Hyundai sales up 18% at 68,728 units in Octobe...   \n",
       "4  CBSE Board Exams 2024: Important topics in Cla...   \n",
       "\n",
       "                                       clean_Content  \\\n",
       "0  gst collection rises 11 rs 159 lakh cr aug imp...   \n",
       "1  assam board 12th results 2023 ahsec declare hs...   \n",
       "2  delhi hc permits st stephen s college hold int...   \n",
       "3  hyundai sales 18 68728 units october hyundai m...   \n",
       "4  cbse board exams 2024 important topics class 1...   \n",
       "\n",
       "                                     stemmed_Content  \\\n",
       "0  gst collect rise 11 rs 159 lakh cr aug improv ...   \n",
       "1  assam board 12th result 2023 ahsec declar hs s...   \n",
       "2  delhi hc permit st stephen s colleg hold inter...   \n",
       "3  hyundai sale 18 68728 unit octob hyundai motor...   \n",
       "4  cbse board exam 2024 import topic class 12th p...   \n",
       "\n",
       "                                  lemmatized_Content  \n",
       "0  gst collection rise 11 r 159 lakh cr aug impro...  \n",
       "1  assam board 12th result 2023 ahsec declare h s...  \n",
       "2  delhi hc permit st stephen s college hold inte...  \n",
       "3  hyundai sale 18 68728 unit october hyundai mot...  \n",
       "4  cbse board exams 2024 important topic class 12...  "
      ]
     },
     "execution_count": 29,
     "metadata": {},
     "output_type": "execute_result"
    }
   ],
   "source": [
    "df['lemmatized_Content'] = df['clean_Content'].apply(lambda x: lemmatize_words(x))\n",
    "df.head()"
   ]
  },
  {
   "cell_type": "code",
   "execution_count": 30,
   "id": "b5acbbf2-ec75-482c-92ce-fbdafb81851d",
   "metadata": {
    "tags": []
   },
   "outputs": [
    {
     "data": {
      "text/html": [
       "<div>\n",
       "<style scoped>\n",
       "    .dataframe tbody tr th:only-of-type {\n",
       "        vertical-align: middle;\n",
       "    }\n",
       "\n",
       "    .dataframe tbody tr th {\n",
       "        vertical-align: top;\n",
       "    }\n",
       "\n",
       "    .dataframe thead th {\n",
       "        text-align: right;\n",
       "    }\n",
       "</style>\n",
       "<table border=\"1\" class=\"dataframe\">\n",
       "  <thead>\n",
       "    <tr style=\"text-align: right;\">\n",
       "      <th></th>\n",
       "      <th>Content</th>\n",
       "      <th>clean_Content</th>\n",
       "      <th>stemmed_Content</th>\n",
       "      <th>lemmatized_Content</th>\n",
       "    </tr>\n",
       "  </thead>\n",
       "  <tbody>\n",
       "    <tr>\n",
       "      <th>4856</th>\n",
       "      <td>Skriniar no longer Inter captain says Inzaghi ...</td>\n",
       "      <td>skriniar longer inter captain says inzaghi ahe...</td>\n",
       "      <td>skriniar longer inter captain say inzaghi ahea...</td>\n",
       "      <td>skriniar longer inter captain say inzaghi ahea...</td>\n",
       "    </tr>\n",
       "    <tr>\n",
       "      <th>3248</th>\n",
       "      <td>UBS ends rescue packages from Swiss govt that ...</td>\n",
       "      <td>ubs ends rescue packages swiss govt paved way ...</td>\n",
       "      <td>ub end rescu packag swiss govt pave way credit...</td>\n",
       "      <td>ubs end rescue package swiss govt pave way cre...</td>\n",
       "    </tr>\n",
       "    <tr>\n",
       "      <th>83</th>\n",
       "      <td>Ira Khan and Nupur Shikhare make first public ...</td>\n",
       "      <td>ira khan nupur shikhare make first public appe...</td>\n",
       "      <td>ira khan nupur shikhar make first public appea...</td>\n",
       "      <td>ira khan nupur shikhare make first public appe...</td>\n",
       "    </tr>\n",
       "    <tr>\n",
       "      <th>5834</th>\n",
       "      <td>NEET UG: Supreme Court rejects plea against si...</td>\n",
       "      <td>neet ug supreme court rejects plea signature c...</td>\n",
       "      <td>neet ug suprem court reject plea signatur camp...</td>\n",
       "      <td>neet ug supreme court reject plea signature ca...</td>\n",
       "    </tr>\n",
       "    <tr>\n",
       "      <th>9039</th>\n",
       "      <td>Japan’s ispace is back with second mission, mi...</td>\n",
       "      <td>japan s ispace back second mission micro rover...</td>\n",
       "      <td>japan s ispac back second mission micro rover ...</td>\n",
       "      <td>japan s ispace back second mission micro rover...</td>\n",
       "    </tr>\n",
       "  </tbody>\n",
       "</table>\n",
       "</div>"
      ],
      "text/plain": [
       "                                                Content  \\\n",
       "4856  Skriniar no longer Inter captain says Inzaghi ...   \n",
       "3248  UBS ends rescue packages from Swiss govt that ...   \n",
       "83    Ira Khan and Nupur Shikhare make first public ...   \n",
       "5834  NEET UG: Supreme Court rejects plea against si...   \n",
       "9039  Japan’s ispace is back with second mission, mi...   \n",
       "\n",
       "                                          clean_Content  \\\n",
       "4856  skriniar longer inter captain says inzaghi ahe...   \n",
       "3248  ubs ends rescue packages swiss govt paved way ...   \n",
       "83    ira khan nupur shikhare make first public appe...   \n",
       "5834  neet ug supreme court rejects plea signature c...   \n",
       "9039  japan s ispace back second mission micro rover...   \n",
       "\n",
       "                                        stemmed_Content  \\\n",
       "4856  skriniar longer inter captain say inzaghi ahea...   \n",
       "3248  ub end rescu packag swiss govt pave way credit...   \n",
       "83    ira khan nupur shikhar make first public appea...   \n",
       "5834  neet ug suprem court reject plea signatur camp...   \n",
       "9039  japan s ispac back second mission micro rover ...   \n",
       "\n",
       "                                     lemmatized_Content  \n",
       "4856  skriniar longer inter captain say inzaghi ahea...  \n",
       "3248  ubs end rescue package swiss govt pave way cre...  \n",
       "83    ira khan nupur shikhare make first public appe...  \n",
       "5834  neet ug supreme court reject plea signature ca...  \n",
       "9039  japan s ispace back second mission micro rover...  "
      ]
     },
     "execution_count": 30,
     "metadata": {},
     "output_type": "execute_result"
    }
   ],
   "source": [
    "df2=df.sample(frac=1).head(5)\n",
    "df2"
   ]
  },
  {
   "cell_type": "code",
   "execution_count": 31,
   "id": "572ad6b2-03ee-4078-906c-fb8b0b14d730",
   "metadata": {
    "tags": []
   },
   "outputs": [
    {
     "name": "stdout",
     "output_type": "stream",
     "text": [
      "1670052\n"
     ]
    }
   ],
   "source": [
    "total_word_count = 0\n",
    "for content in df['lemmatized_Content']:\n",
    "    total_word_count += sum(1 for _ in content.split())\n",
    "print(total_word_count)"
   ]
  },
  {
   "cell_type": "markdown",
   "id": "8a958b5e-d7ca-4701-9884-78bde01c8813",
   "metadata": {
    "tags": []
   },
   "source": [
    "## Tagging Parts of Speech"
   ]
  },
  {
   "cell_type": "code",
   "execution_count": 32,
   "id": "c3b02fc1-7595-418a-ad2d-503a7af4db12",
   "metadata": {
    "tags": []
   },
   "outputs": [],
   "source": [
    "z=df['lemmatized_Content']"
   ]
  },
  {
   "cell_type": "code",
   "execution_count": 33,
   "id": "17762139-ebd9-4291-aeb7-fe8184e34482",
   "metadata": {
    "tags": []
   },
   "outputs": [],
   "source": [
    "from nltk import pos_tag"
   ]
  },
  {
   "cell_type": "code",
   "execution_count": 34,
   "id": "2b02c739-505f-41b4-b818-7ac5a6fec8c2",
   "metadata": {
    "tags": []
   },
   "outputs": [],
   "source": [
    "from nltk.tokenize import word_tokenize\n",
    "\n",
    "def tokenize_text(text):\n",
    "    return word_tokenize(text)\n",
    "\n",
    "tok = df['lemmatized_Content'].apply(lambda x: tokenize_text(x))\n",
    "\n",
    "# print(ff)"
   ]
  },
  {
   "cell_type": "code",
   "execution_count": 35,
   "id": "8641c75a-f266-4892-95d3-beb9705f041c",
   "metadata": {
    "tags": []
   },
   "outputs": [
    {
     "name": "stdout",
     "output_type": "stream",
     "text": [
      "0       [(gst, NN), (collection, NN), (rise, NN), (11,...\n",
      "1       [(assam, RB), (board, NN), (12th, CD), (result...\n",
      "2       [(delhi, JJ), (hc, NN), (permit, NN), (st, NN)...\n",
      "3       [(hyundai, JJ), (sale, NN), (18, CD), (68728, ...\n",
      "4       [(cbse, NNS), (board, NN), (exams, VBZ), (2024...\n",
      "                              ...                        \n",
      "9995    [(apple, NN), (samsung, NN), (tile, NN), (quic...\n",
      "9996    [(eye, NN), (china, NN), (u, JJ), (agency, NN)...\n",
      "9997    [(pay, NN), (1000, CD), (iphone, NN), (apple, ...\n",
      "9998    [(sock, NN), (stun, NN), (finance, NN), (profe...\n",
      "9999    [(chse, NN), (odisha, MD), (plus, CC), (two, C...\n",
      "Name: lemmatized_Content, Length: 10000, dtype: object\n"
     ]
    }
   ],
   "source": [
    "def apply_pos_tagging(tokens):\n",
    "    return pos_tag(tokens)\n",
    "\n",
    "tps= tok.apply(lambda x: apply_pos_tagging(x))\n",
    "\n",
    "print(tps)"
   ]
  },
  {
   "cell_type": "code",
   "execution_count": 36,
   "id": "64a96489-64d3-418e-9cce-05ecef7e6a61",
   "metadata": {
    "tags": []
   },
   "outputs": [],
   "source": [
    "# NNP: Stands for Proper noun, singular. It is used to tag individual names or unique entities. Examples include personal names like “Sarah” or specific locations like “Paris”\n",
    "# NN: Stands for noun, singular. It is used to tag individual words that represent single entities or objects. Examples include words like “desk,” “apple,” or “dog”\n",
    "# DT: Stands for determiner. Determiners are words that introduce or specify nouns. They help provide context or limit the reference of a noun. Examples of determiners include “the,” “a,” “an,” “this,” and “those”\n",
    "# VBZ: Stands for verb, present tense, 3rd person singular. It is used to tag verbs that refer to actions happening in the present and are associated with the third person singular subjects (such as “he,” “she,” or “it”). Examples include words like “bases,” “reconstructs,” “marks,” “mixes,” and “displeases”\n",
    "# (“.”) is not assigned a specific POS tag. Instead, it is typically treated as punctuation. Punctuation marks like periods, commas, question marks, and exclamation points serve to structure sentences and indicate pauses or breaks in text.\n",
    "# PRP: Stands for personal pronoun. Personal pronouns are words that replace nouns to refer to specific people or things. They vary based on the person (first, second, or third) and number (singular or plural). Examples include “I,” “you,” “he,” “she,” “it,” “we,” and “they” \n",
    "# VBP : Certainly! The VBP tag in part-of-speech (POS) tagging stands for “verb, present tense, not 3rd person singular.” It is used to identify verbs in the present tense that do not refer to third-person singular subjects. Examples of words tagged with VBP include “wrap,” “resort,” “sue,” “twist,” “spill,” and “cure”\n",
    "# CD : Certainly! Let’s explore the fascinating world of Boolean algebra and its concepts related to Sum of Product (SOP) and Product of Sum (POS) forms.\n",
    "# NNS : stands for noun, common, plural. It is used to identify plural common nouns in a sentence. Here are some examples:\n",
    "# JJ : corresponds to adjectives. ('good', 'JJ'),\n",
    "# CC: conjunction, coordinating & 'n and both but either et for less minus neither nor or plus so therefore times v. versus vs. whether yet\n",
    "# CD: numeral, cardinal mid-1890 nine-thirty forty-two one-tenth ten million 0.5 one forty-seven 1987\n",
    "# IN: preposition (  NEXT )\n",
    "# JJ: adjective"
   ]
  },
  {
   "cell_type": "code",
   "execution_count": null,
   "id": "875d968f-8594-431f-963d-de84b0d935da",
   "metadata": {},
   "outputs": [],
   "source": []
  },
  {
   "cell_type": "markdown",
   "id": "1501527b-292c-4477-bf66-e918d38a24b4",
   "metadata": {
    "tags": []
   },
   "source": [
    "## Chunking"
   ]
  },
  {
   "cell_type": "code",
   "execution_count": 37,
   "id": "6b4c57f8-1a60-4ea4-8bfc-9426df60de7d",
   "metadata": {},
   "outputs": [],
   "source": [
    "# from nltk.chunk import RegexpParser"
   ]
  },
  {
   "cell_type": "code",
   "execution_count": 38,
   "id": "fee97094-2798-4230-89c7-c116cf221577",
   "metadata": {},
   "outputs": [],
   "source": [
    "# # Download necessary NLTK data\n",
    "# nltk.download('punkt')\n",
    "# nltk.download('averaged_perceptron_tagger')"
   ]
  },
  {
   "cell_type": "code",
   "execution_count": 39,
   "id": "3b77ba9f-0990-4ed0-a6e1-3291688040c6",
   "metadata": {
    "tags": []
   },
   "outputs": [],
   "source": [
    "# # Define the chunk grammar (NP: Noun Phrase)\n",
    "# chunk_grammar = \"NP: {<DT>?<JJ>*<NN>}\"\n",
    "\n",
    "# # Create a chunk parser\n",
    "# chunk_parser = RegexpParser(chunk_grammar)\n",
    "\n",
    "# def chunk_sentence(tagged_sentence):\n",
    "#     return chunk_parser.parse(tagged_sentence)\n",
    "\n",
    "# chunked = tps1.apply(chunk_sentence)\n",
    "\n",
    "\n",
    "# # Print and visualize the chunked sentence\n",
    "# print(\"Chunked:\", chunked)"
   ]
  },
  {
   "cell_type": "markdown",
   "id": "aa8c99e7-e7b6-461e-babb-7eb6f613a398",
   "metadata": {
    "tags": []
   },
   "source": [
    "## Chinking"
   ]
  },
  {
   "cell_type": "code",
   "execution_count": 40,
   "id": "3729fe12-f610-4b2b-8610-73cc1c354356",
   "metadata": {},
   "outputs": [],
   "source": [
    "# # Define the chunk grammar with a chink pattern to exclude adjectives (JJ)\n",
    "# chunk_grammar_chink = \"\"\"\n",
    "#   NP: {<DT>?<JJ>*<NN>}      # Chunk Noun Phrases\n",
    "#       }<JJ>{               # Chink to remove adjectives\n",
    "# \"\"\"\n",
    "\n",
    "# # Create a chunk parser for chinking\n",
    "# chunk_parser_chink = RegexpParser(chunk_grammar_chink)\n",
    "\n",
    "\n",
    "\n",
    "# def chink_sentence(tagged_sentence):\n",
    "#     return chunk_parser_chink.parse(tagged_sentence)\n",
    "\n",
    "# chunked_chink = tps1.apply(chunk_sentence)\n",
    "\n",
    "# # Parse the tagged sentence with chinking\n",
    "# # chunked_chink = chunk_parser_chink.parse(tps1)\n",
    "\n",
    "# # Print and visualize the chunked sentence with chinking\n",
    "# print(\"Chunked with Chinking:\", chunked_chink)"
   ]
  },
  {
   "cell_type": "code",
   "execution_count": null,
   "id": "4ec53573-0401-4df8-94e1-3b346d7c85cd",
   "metadata": {},
   "outputs": [],
   "source": []
  },
  {
   "cell_type": "code",
   "execution_count": null,
   "id": "422ee90b-4a81-4746-8780-8067a2b0c98c",
   "metadata": {},
   "outputs": [],
   "source": []
  },
  {
   "cell_type": "markdown",
   "id": "04f281dd-8870-4023-8f45-c45ac9c0b7b6",
   "metadata": {
    "tags": []
   },
   "source": [
    "## Named-Entity Recognition"
   ]
  },
  {
   "cell_type": "code",
   "execution_count": 41,
   "id": "5e7375a4-053d-41b2-b6e2-8df037c6285d",
   "metadata": {
    "tags": []
   },
   "outputs": [
    {
     "name": "stderr",
     "output_type": "stream",
     "text": [
      "C:\\Users\\ENG.Ghazaly\\AppData\\Local\\Temp\\ipykernel_5188\\3759813491.py:2: DeprecationWarning: Importing display from IPython.core.display is deprecated since IPython 7.14, please import from IPython display\n",
      "  from IPython.core.display import display, HTML\n"
     ]
    }
   ],
   "source": [
    "import spacy\n",
    "from IPython.core.display import display, HTML"
   ]
  },
  {
   "cell_type": "code",
   "execution_count": 42,
   "id": "04a9f989-4aa7-4ace-82a2-6a01514205af",
   "metadata": {
    "tags": []
   },
   "outputs": [],
   "source": [
    "from spacy import displacy"
   ]
  },
  {
   "cell_type": "code",
   "execution_count": 43,
   "id": "13cff380-7c3b-44e9-8917-4139222878af",
   "metadata": {
    "tags": []
   },
   "outputs": [
    {
     "data": {
      "text/plain": [
       "['tok2vec', 'tagger', 'parser', 'attribute_ruler', 'lemmatizer', 'ner']"
      ]
     },
     "execution_count": 43,
     "metadata": {},
     "output_type": "execute_result"
    }
   ],
   "source": [
    "nlp = spacy.load(\"en_core_web_sm\")\n",
    "nlp.pipe_names"
   ]
  },
  {
   "cell_type": "code",
   "execution_count": 44,
   "id": "bac62ebe-049f-4c83-a766-6c50d7c6cef4",
   "metadata": {
    "tags": []
   },
   "outputs": [
    {
     "data": {
      "text/plain": [
       "['CARDINAL',\n",
       " 'DATE',\n",
       " 'EVENT',\n",
       " 'FAC',\n",
       " 'GPE',\n",
       " 'LANGUAGE',\n",
       " 'LAW',\n",
       " 'LOC',\n",
       " 'MONEY',\n",
       " 'NORP',\n",
       " 'ORDINAL',\n",
       " 'ORG',\n",
       " 'PERCENT',\n",
       " 'PERSON',\n",
       " 'PRODUCT',\n",
       " 'QUANTITY',\n",
       " 'TIME',\n",
       " 'WORK_OF_ART']"
      ]
     },
     "execution_count": 44,
     "metadata": {},
     "output_type": "execute_result"
    }
   ],
   "source": [
    "nlp.pipe_labels[\"ner\"]"
   ]
  },
  {
   "cell_type": "code",
   "execution_count": null,
   "id": "b70048e3-18e3-4452-a6a3-deb2f5a4670b",
   "metadata": {
    "tags": []
   },
   "outputs": [],
   "source": [
    "# Function to extract named entitie\n",
    "def extract_entities(text):\n",
    "    doc = nlp(text)\n",
    "    entities = [(ent.text, ent.label_) for ent in doc.ents]\n",
    "    return entities\n",
    "\n",
    "ndr = df['lemmatized_Content'].apply(extract_entities)\n",
    "\n",
    "print(ndr)"
   ]
  },
  {
   "cell_type": "code",
   "execution_count": null,
   "id": "241672f2-dc44-48de-bb7e-0f0944802794",
   "metadata": {
    "tags": []
   },
   "outputs": [],
   "source": [
    "def extract_and_display_entities(text):\n",
    "    doc = nlp(text)\n",
    "    entities = [(ent.text, ent.label_) for ent in doc.ents]\n",
    "    html = displacy.render(doc, style=\"ent\", jupyter=True)\n",
    "    display(HTML(html))\n",
    "    return entities\n",
    "\n",
    "ndr2= df['lemmatized_Content'].apply(lambda x: extract_and_display_entities(x))\n",
    "\n",
    "print(ndr2)"
   ]
  },
  {
   "cell_type": "markdown",
   "id": "e2a303c8-c180-42e8-bd24-6c7e10bc7384",
   "metadata": {
    "tags": []
   },
   "source": [
    "## Dependency Parsing"
   ]
  },
  {
   "cell_type": "code",
   "execution_count": null,
   "id": "e5cac912-88cb-4d55-a4e9-8fe02f88e373",
   "metadata": {
    "tags": []
   },
   "outputs": [],
   "source": [
    "def parse_and_display_dependencies(text):\n",
    "    doc = nlp(text)\n",
    "    dependencies = [(token.text, token.dep_, token.head.text) for token in doc]\n",
    "    return dependencies\n",
    "\n",
    "dp = df['lemmatized_Content'].apply(lambda x: parse_and_display_dependencies(x))\n",
    "\n",
    "print(dp)"
   ]
  },
  {
   "cell_type": "markdown",
   "id": "1060d345-4939-400d-a3e6-f4ea25fb1bf3",
   "metadata": {
    "tags": []
   },
   "source": [
    "## Rule-Based Matching "
   ]
  },
  {
   "cell_type": "code",
   "execution_count": null,
   "id": "9522a02e-72cd-47fb-b74b-878a69d70bd2",
   "metadata": {
    "tags": []
   },
   "outputs": [],
   "source": [
    "from spacy.matcher import Matcher\n",
    "matcher = Matcher(nlp.vocab)\n",
    "pattern = [{'LOWER': 'india'}]\n",
    "matcher.add(\"IndiaPattern\", [pattern])"
   ]
  },
  {
   "cell_type": "code",
   "execution_count": null,
   "id": "a4314c79-0893-45f8-9465-0ebd2bac334f",
   "metadata": {
    "tags": []
   },
   "outputs": [],
   "source": [
    "def apply_rule_based_matching(text):\n",
    "    doc = nlp(text)\n",
    "    matches = matcher(doc)\n",
    "    matched_tokens = [doc[start:end].text for match_id, start, end in matches]\n",
    "    return matched_tokens\n",
    "\n",
    "rbm = df['lemmatized_Content'].apply(lambda x: apply_rule_based_matching(x))\n",
    "\n",
    "print(rbm)"
   ]
  },
  {
   "cell_type": "markdown",
   "id": "211dc1ef-21a7-4079-b65e-dd0c6494b6d0",
   "metadata": {
    "tags": []
   },
   "source": [
    "## Vectorization"
   ]
  },
  {
   "cell_type": "code",
   "execution_count": null,
   "id": "c6094dbb-a07e-45b3-921f-c68472143266",
   "metadata": {},
   "outputs": [],
   "source": [
    "X=df['lemmatized_Content']"
   ]
  },
  {
   "cell_type": "markdown",
   "id": "577dd9fd-1276-4c7e-aa3f-6655a07f2d15",
   "metadata": {
    "tags": []
   },
   "source": [
    "### CountVectorizer"
   ]
  },
  {
   "cell_type": "code",
   "execution_count": null,
   "id": "3b114c00-ffa2-4fac-97e7-7e0e7176fcde",
   "metadata": {
    "tags": []
   },
   "outputs": [],
   "source": [
    "# from sklearn.feature_extraction.text import CountVectorizer\n",
    "# cv=CountVectorizer()"
   ]
  },
  {
   "cell_type": "code",
   "execution_count": null,
   "id": "b84cbb75-9b50-417e-a5c4-0a0f7bc9aef6",
   "metadata": {
    "tags": []
   },
   "outputs": [],
   "source": [
    "# X=cv.fit_transform(X)\n",
    "# trans = cv.transform(X)"
   ]
  },
  {
   "cell_type": "markdown",
   "id": "7603cd56-1e26-4c83-ab78-84804d7db05e",
   "metadata": {
    "tags": []
   },
   "source": [
    "### TfidfVectorizer"
   ]
  },
  {
   "cell_type": "code",
   "execution_count": null,
   "id": "f8a8eae7-78f9-4155-9134-01ec9716c9e7",
   "metadata": {
    "tags": []
   },
   "outputs": [],
   "source": [
    "# text\n",
    "from sklearn.feature_extraction.text import TfidfVectorizer\n",
    "tfidf = TfidfVectorizer()"
   ]
  },
  {
   "cell_type": "code",
   "execution_count": null,
   "id": "afc6f360-7c03-4b8e-b7c4-042c96599e4e",
   "metadata": {},
   "outputs": [],
   "source": [
    "X = tfidf.fit_transform(X)"
   ]
  },
  {
   "cell_type": "code",
   "execution_count": null,
   "id": "ba7756e6-97e5-4550-813c-58629d26b6c1",
   "metadata": {},
   "outputs": [],
   "source": []
  },
  {
   "cell_type": "markdown",
   "id": "3d353f2c-82f0-4df1-9621-329f82ad372a",
   "metadata": {
    "tags": []
   },
   "source": [
    "## train_test_split"
   ]
  },
  {
   "cell_type": "code",
   "execution_count": null,
   "id": "24ae19e7-8e05-40ec-b306-376e20b93050",
   "metadata": {
    "tags": []
   },
   "outputs": [],
   "source": [
    "from sklearn.model_selection import train_test_split\n",
    "X_train , X_test , Y_train , Y_test  = train_test_split(X, y, test_size = 0.2 ,  random_state = 42)"
   ]
  },
  {
   "cell_type": "markdown",
   "id": "00bef36e-f4e3-40df-9c3e-fed74750462f",
   "metadata": {
    "tags": []
   },
   "source": [
    "## Model"
   ]
  },
  {
   "cell_type": "markdown",
   "id": "1185201e-2566-4cdd-86ae-9e879c4538fe",
   "metadata": {
    "tags": []
   },
   "source": [
    "### LogisticRegression"
   ]
  },
  {
   "cell_type": "code",
   "execution_count": null,
   "id": "628e33ba-1794-4791-8475-7da36c656b07",
   "metadata": {
    "tags": []
   },
   "outputs": [],
   "source": [
    "from sklearn.linear_model import LogisticRegression\n",
    "from sklearn.metrics import accuracy_score, classification_report, f1_score"
   ]
  },
  {
   "cell_type": "code",
   "execution_count": null,
   "id": "ede64bb4-1fff-4ce7-806d-9eceba0135b9",
   "metadata": {
    "tags": []
   },
   "outputs": [],
   "source": [
    "lr = LogisticRegression()\n",
    "lr.fit(X_train, Y_train)\n",
    "\n",
    "# Make predictions\n",
    "Y_pred_lr = lr.predict(X_test)\n",
    "\n",
    "accuracy_lr = accuracy_score(Y_test, Y_pred_lr)\n",
    "\n",
    "f1_lr = f1_score(Y_test, Y_pred_lr, average='weighted')\n",
    "\n",
    "report_lr = classification_report(Y_test, Y_pred_lr)\n",
    "\n",
    "# Print the results for classification\n",
    "print(f\"Model: Logistic Regression\")\n",
    "print(f\"Accuracy: {accuracy_lr:.4f}\")\n",
    "print(f\"F1-Score: {f1_lr:.4f}\")\n",
    "print(f\"Classification Report:\\n{report_lr}\")\n",
    "print(\"=\"*50)"
   ]
  },
  {
   "cell_type": "markdown",
   "id": "1749db15-fc0e-4b65-8532-b43442fa794e",
   "metadata": {
    "tags": []
   },
   "source": [
    "### SVM"
   ]
  },
  {
   "cell_type": "code",
   "execution_count": null,
   "id": "693b96d4-9340-4884-80f6-60d7e5df6a40",
   "metadata": {
    "tags": []
   },
   "outputs": [],
   "source": [
    "from sklearn.svm import SVC"
   ]
  },
  {
   "cell_type": "code",
   "execution_count": null,
   "id": "60b292c6-b11f-4f8d-b75a-7d6072f386ef",
   "metadata": {
    "tags": []
   },
   "outputs": [],
   "source": [
    "model = SVC()\n",
    "model.fit(X_train, Y_train)\n",
    "\n",
    "# Make predictions\n",
    "Y_pred_cls = model.predict(X_test)\n",
    "\n",
    "accuracy_cls = accuracy_score(Y_test, Y_pred_cls)\n",
    "\n",
    "f1_cls = f1_score(Y_test, Y_pred_cls, average='weighted')\n",
    "\n",
    "report_cls = classification_report(Y_test, Y_pred_cls)\n",
    "\n",
    "# Print the results for classification\n",
    "print(f\"Model: SVM\")\n",
    "print(f\"Accuracy: {accuracy_cls:.4f}\")\n",
    "print(f\"F1-Score: {f1_cls:.4f}\")\n",
    "print(f\"Classification Report:\\n{report_cls}\")\n",
    "print(\"=\"*50)"
   ]
  },
  {
   "cell_type": "code",
   "execution_count": null,
   "id": "e9534399-a0c1-4457-a4df-e9d3a24b148d",
   "metadata": {},
   "outputs": [],
   "source": []
  },
  {
   "cell_type": "code",
   "execution_count": null,
   "id": "0bbcc9d9-1173-4267-a20d-99ce7865e09d",
   "metadata": {
    "tags": []
   },
   "outputs": [],
   "source": [
    "from sklearn.naive_bayes import MultinomialNB"
   ]
  },
  {
   "cell_type": "code",
   "execution_count": null,
   "id": "e1dd9d01-33c0-46b9-ba46-b0c2415aa192",
   "metadata": {
    "tags": []
   },
   "outputs": [],
   "source": [
    "nb = MultinomialNB()\n",
    "nb.fit(X_train, Y_train)"
   ]
  },
  {
   "cell_type": "code",
   "execution_count": null,
   "id": "a01b841f-8c02-45cc-8fa3-8d6c433dc3df",
   "metadata": {
    "tags": []
   },
   "outputs": [],
   "source": [
    "accuracy_nb = accuracy_score(Y_test, Y_pred_cls)"
   ]
  },
  {
   "cell_type": "code",
   "execution_count": null,
   "id": "914e93c9-2aa7-4317-b8a4-caafe82a7df8",
   "metadata": {},
   "outputs": [],
   "source": []
  }
 ],
 "metadata": {
  "kernelspec": {
   "display_name": "Python 3 (ipykernel)",
   "language": "python",
   "name": "python3"
  },
  "language_info": {
   "codemirror_mode": {
    "name": "ipython",
    "version": 3
   },
   "file_extension": ".py",
   "mimetype": "text/x-python",
   "name": "python",
   "nbconvert_exporter": "python",
   "pygments_lexer": "ipython3",
   "version": "3.11.5"
  }
 },
 "nbformat": 4,
 "nbformat_minor": 5
}
